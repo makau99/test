{
 "cells": [
  {
   "cell_type": "markdown",
   "metadata": {},
   "source": [
    "### GROUP 10\n",
    "\n",
    "**PHASE 2 CAPSTONE PROJECT**\n",
    "\n",
    "**MEMBERS:**\n",
    "- Job Cheruyout\n",
    "- Eric Miriti\n",
    "- Susan Mworia\n",
    "- Lydia Mangoa\n",
    "- Evans Makau\n",
    "- Wambui Kariuki\n"
   ]
  },
  {
   "cell_type": "markdown",
   "metadata": {
    "colab": {
     "base_uri": "https://localhost:8080/"
    },
    "id": "6ti-5EmBJLiF",
    "outputId": "09a01285-9f72-4971-f948-7aa6b70c5b0d"
   },
   "source": [
    "from google.colab import drive\n",
    "drive.mount('/content/drive')"
   ]
  },
  {
   "cell_type": "markdown",
   "metadata": {},
   "source": [
    "### BUSINESS UNDERSTANDING\n"
   ]
  },
  {
   "cell_type": "markdown",
   "metadata": {},
   "source": [
    "### Problem Statement\r\n",
    "\r\n",
    "Our company is launching a new movie studio, inspired by the success of original video content from leading companies. To guide this new venture, we are studying current box office trends to determine the most successful genres and themes. These insights will be turned into actionable recommendations to help the studio create films that will resonate with audiences and perform well in theaters.\r\n"
   ]
  },
  {
   "cell_type": "markdown",
   "metadata": {},
   "source": [
    "### Business Goals\r\n",
    "\r\n",
    "- **Maximize Revenue Potential**: Study box office data on income to determine the most profitable types of films.\r\n",
    "- **Tailor Films to Audience Preferences**: Analyze data on runtime and genres to identify the most popular formats and genres in the market. Use these insights to create films that align with audience expectations and preferences in terms of length and genre.\r\n",
    "- **Optimize Film Quality and Popularity**: Leverage data on average ratings and the number of votes to identify the types of films with high audience satisfaction and strong engagement. Use this information to guide the studio’s film selection, aiming for high-quality productions with strong appeal.\r\n"
   ]
  },
  {
   "cell_type": "markdown",
   "metadata": {},
   "source": [
    "### Success Criteria\r\n",
    "\r\n",
    "- **Box Office Success**: Each film should meet the set gross income target.\r\n",
    "- **Genre and Runtime Fit**: Films should match popular genres and runtimes, with success measured by positive audience reception in these areas.\r\n",
    "- **Strong Audience Engagement**: Films should have an average rating of at least 7/10 and attract a significant number of votes, indicating positive audience feedback.\r\n",
    "- **Good Financial Return**: Each film should generate a return on investment (ROI) of at least 2x the production cost, showing profitability.\r\n"
   ]
  },
  {
   "cell_type": "markdown",
   "metadata": {},
   "source": [
    "### DATA UNDERSTANDING\n",
    "\n",
    "This section involves examining and exploring the dataset to gain insights into its structure, content, and relevance to the project objectives. Key areas of focus include:\n",
    "\n",
    "- **Dataset Overview**: Assess the size, structure, and format of the dataset to understand its scope.\n",
    "- **Key Variables**: Identify critical variables such as gross income, genres, runtime, average ratings, and the number of votes.\n",
    "- **Data Completeness**: Check for missing values or incomplete records that could impact the analysis.\n",
    "- **Data Consistency**: Ensure uniformity in variables like genres and runtime to maintain accuracy in analysis.\n",
    "- **Initial Observations**: Perform basic exploratory analysis to identify trends, patterns, or anomalies in the data.\n"
   ]
  },
  {
   "cell_type": "markdown",
   "metadata": {},
   "source": [
    "### Key Questions:\n",
    "\n",
    "1. What genres require the highest budget?\n",
    "2. What genres have the longest runtime?\n",
    "3. What genres raked in the highest revenue?\n",
    "4. What is the relationship between votes, popularity, and revenue?\n",
    "5. Can we prove several statistical concepts based on our data?\n"
   ]
  },
  {
   "cell_type": "markdown",
   "metadata": {},
   "source": [
    "### Data Sources\r\n",
    "\r\n",
    "The data for this project is derived from the following sources:\r\n",
    "\r\n",
    "1. **IMDB**\r\n",
    "2. **The Movie DB**\r\n"
   ]
  },
  {
   "cell_type": "markdown",
   "metadata": {},
   "source": [
    "### Data Description\r\n",
    "\r\n",
    "Two databases were used for this analysis:\r\n",
    "\r\n",
    "1. **IMDB**: An SQL database from which we use two tables:\r\n",
    "   - **Title Basics**: Consists of 6 columns and 146,144 rows.\r\n",
    "   - **Title Ratings**: Consists of 3 columns and 73,856 rows.\r\n",
    "\r\n",
    "2. **The Movie DB**: Contains 10 columns and 26,517 rows. Data scraping was done to extract additional fields for analysis.\r\n",
    "\r\n",
    "### Categories of Data Used for Analysis:\r\n",
    "- **Quantitative Data**: \r\n",
    "  - `runtime_minutes`\r\n",
    "  - `vote_count`\r\n",
    "  - `revenue`\r\n",
    "  - `popularity`\r\n",
    "\r\n",
    "- **Qualitative Data**: \r\n",
    "  - `primary_title`\r\n",
    "  - `genres`\r\n"
   ]
  },
  {
   "cell_type": "markdown",
   "metadata": {},
   "source": [
    "## DATA PREPARATION\n"
   ]
  },
  {
   "cell_type": "markdown",
   "metadata": {
    "id": "-nIvt-eQmASg"
   },
   "source": [
    "### Data Collection\n",
    "\n",
    "Data availed from below websites:\n",
    "\n",
    "Fot TMDB, data scraping was done to get more fields for analysis\n",
    "\n",
    "\n",
    "*   https://www.themoviedb.org/\n",
    "*   https://www.imdb.com/ . API_KEY = '1747bacc4f65a1c1db0f28b00f7ec810'"
   ]
  },
  {
   "cell_type": "markdown",
   "metadata": {},
   "source": [
    "## Data Collection\n",
    "\n",
    "Data availed from below websites:\n",
    "\n",
    "Fot TMDB, data scraping was done to get more fields for analysis\n",
    "\n",
    "https://www.themoviedb.org/\n",
    "https://www.imdb.com/ . API_KEY = '1747bacc4f65a1c1db0f28b00f7ec810'"
   ]
  },
  {
   "cell_type": "markdown",
   "metadata": {
    "id": "I6BwOTR1mAOq"
   },
   "source": [
    "## Data Cleaning\n",
    "This will be handled through:\n",
    "\n",
    "\n",
    "*   Handling Duplicates: Ensuring there are no repeated records\n",
    "*   Handling Missing Data:Fill in or remove incomplete data points, such as missing report status.\n",
    "*   Exploratory Data Analysis (EDA)\n",
    "*   Combining tables from different databases"
   ]
  },
  {
   "cell_type": "markdown",
   "metadata": {
    "id": "_BYPl1BAptPf"
   },
   "source": [
    "As shown by the correlation matrix there is a strong positive correlation between a title's popularity and the revenue accrued. More popular movies may accrue higher revenues."
   ]
  },
  {
   "cell_type": "code",
   "execution_count": null,
   "metadata": {
    "id": "BsK8Y5OYfwkH"
   },
   "outputs": [],
   "source": [
    "The PMF plot for vote_count shows that most values are concentrated at lower counts, with probabilities rapidly decreasing for higher values. This suggests a distribution skewed toward smaller vote counts, consistent with a Poisson distribution where the majority of observations are near the mean. This visualization highlights the rarity of higher vote counts relative to the dataset's size."
   ]
  },
  {
   "cell_type": "markdown",
   "metadata": {
    "id": "kiuc0tLIfwkI"
   },
   "source": [
    "The Probability Density Function (PDF) of popularity shows a right-skewed normal distribution with the highest density around the mean. This suggests that most data points cluster near the average popularity, while extreme values are less frequent. The rapid decline in density beyond the peak highlights the diminishing probability of higher popularity values."
   ]
  },
  {
   "cell_type": "markdown",
   "metadata": {
    "id": "VmS0ppw6YH-8"
   },
   "source": [
    "### Cumulative Distribution Function (CDF)"
   ]
  },
  {
   "cell_type": "markdown",
   "metadata": {
    "id": "D3xqFsf_fwkI"
   },
   "source": [
    "The Cumulative Distribution Function (CDF) for Revenue indicates that the majority of revenue values are concentrated below a specific threshold. Around 80% of the data lies below 0.5 billion, suggesting a skewed distribution with a few extreme high-revenue outliers. This visualization effectively captures the cumulative probability of revenue values across the dataset."
   ]
  },
  {
   "cell_type": "markdown",
   "metadata": {
    "id": "6Bo1HqtSYNzQ"
   },
   "source": [
    "### Standard Normal Distribution"
   ]
  },
  {
   "cell_type": "markdown",
   "metadata": {
    "id": "srkvOYIWfwkI"
   },
   "source": [
    "The standard normal distribution graph shows a symmetrical bell curve centered at a z-score of 0, with most of the density concentrated between -2 and 2. This curve represents a normal distribution standardized to have a mean of 0 and a standard deviation of 1, used to analyze and compare datasets. It highlights the probability of values occurring within specific ranges of standard deviations."
   ]
  },
  {
   "cell_type": "markdown",
   "metadata": {
    "id": "ZYTl9-_4YTLU"
   },
   "source": [
    "### Central Limit Theorem"
   ]
  },
  {
   "cell_type": "markdown",
   "metadata": {
    "id": "n6zoxELcfwkJ"
   },
   "source": [
    "The standard normal distribution is a symmetrical bell-shaped curve centered at 0, representing a mean of 0 and a standard deviation of 1. Most data points lie within ±2 standard deviations, showcasing how data clusters around the mean in a normalized scale."
   ]
  },
  {
   "cell_type": "markdown",
   "metadata": {
    "id": "mwDDtaBcYZjN"
   },
   "source": [
    "### Confidence Intervals with T-Distribution"
   ]
  },
  {
   "cell_type": "markdown",
   "metadata": {
    "id": "Saf9S29dfwkJ"
   },
   "source": [
    "The confidence interval for the Budget is visualized with the sample mean shown as a red dot, and the blue dashed lines indicate the margin of error. The interval ranges from approximately 19,900,890.63 to 22,457,235.75. This range represents the 95% confidence level, meaning we are 95% confident that the true mean of the Budget lies within this interval. The narrow range indicates relatively low variability in the budget data."
   ]
  },
  {
   "cell_type": "markdown",
   "metadata": {
    "id": "oZwB2DnmYgVM"
   },
   "source": [
    "### Hypothesis Testing"
   ]
  },
  {
   "cell_type": "markdown",
   "metadata": {
    "id": "QPdYepjkfwkJ"
   },
   "source": [
    "The hypothesis test for Budget shows a test statistic of 30.95 and a p-value of 0.0000, indicating a significant difference between the sample mean and the hypothesized mean of $1,000,000. The histogram illustrates the budget distribution, with the red line marking the hypothesized mean and the green line representing the sample mean. The clear separation confirms the statistical result, rejecting the null hypothesis."
   ]
  },
  {
   "cell_type": "code",
   "execution_count": 23,
   "metadata": {},
   "outputs": [
    {
     "ename": "SyntaxError",
     "evalue": "invalid syntax (3055849970.py, line 3)",
     "output_type": "error",
     "traceback": [
      "\u001b[1;36m  Cell \u001b[1;32mIn[23], line 3\u001b[1;36m\u001b[0m\n\u001b[1;33m    1. **Dataset Preparation**:\u001b[0m\n\u001b[1;37m                 ^\u001b[0m\n\u001b[1;31mSyntaxError\u001b[0m\u001b[1;31m:\u001b[0m invalid syntax\n"
     ]
    }
   ],
   "source": [
    "### Summary of the Process\n",
    "\n",
    "1. **Dataset Preparation**:\n",
    "   - Collected data from popular movie databases, including details on **genres**, **directors**, **release years**, **average ratings**, and **number of votes**.\n",
    "   - Added a new column to classify movies into **rating categories** to better understand the distribution.\n",
    "\n",
    "2. **Exploratory Data Analysis (EDA)**:\n",
    "   - Identified the most frequently produced genres over the years, with **Drama** leading, followed by **Comedy** and **Documentary**.\n",
    "   - Analyzed the average ratings of the top genres, which showed significantly higher audience satisfaction for these categories.\n",
    "\n",
    "3. **Director Influence**:\n",
    "   - Examined the relationship between directors and movie success, finding that top directors consistently produced highly rated movies.\n",
    "   - Highlighted the critical role of directors in driving audience engagement and ratings.\n",
    "\n",
    "4. **Genre-Specific Insights**:\n",
    "   - Investigated total revenue, average budget, and runtime by genre, revealing that **Adventure**, **Action**, and **Animation** dominate in revenue, while **Drama** and **Documentaries** are cost-effective options.\n",
    "\n",
    "5. **Recommendations Development**:\n",
    "   - Synthesized findings into actionable recommendations for my Company, focusing on popular genres, leveraging documentaries, partnering with top directors, and strategic resource allocation.\n",
    "\n",
    "\n"
   ]
  },
  {
   "cell_type": "markdown",
   "metadata": {},
   "source": [
    "### Summary\n",
    "Based on the business objective which was to find insights from a Movies Dataset extracted from popular Movie Databases this are the key findings;\n",
    "\n",
    "\n",
    "- * Genres like **Adventure, Fantasy, and Sci-Fi** generate significantly higher average revenues, making them ideal for investment.\n",
    "   - **Drama, Comedy, and Thriller** show steady audience interest and provide consistent performance over time.\n",
    "**Adventure and Animation** require higher budgets but yield higher returns, suitable for blockbuster projects.\n",
    "   - **Drama and Documentaries** are cost-effective options, balancing lower budgets with steady audience engagement.\n",
    "Director Influence**:\n",
    "   - Top directors consistently produce highly rated and financially successful films, underscoring their importance in audience retention and revenue generation.\n",
    "- Most movies are **90–120 minutes** long, which audiences prefer, though **Action** and **Adventure** sometimes run longer for better storytelling.\n"
   ]
  },
  {
   "cell_type": "markdown",
   "metadata": {},
   "source": [
    "### Recommendations\n",
    "\n",
    "1. **Strategic Genre Focus**:\n",
    "   - Prioritize investments in **Adventure, Fantasy, and Drama** to capture global audience interest and maximize ROI.\n",
    "   - Include **Documentaries** as a cost-effective niche option, especially for trending, socially relevant topics.\n",
    "\n",
    "2. **Partnerships with Top Directors**:\n",
    "   - Collaborate with proven directors to leverage their expertise in creating high-quality, audience-loved content.\n",
    "   - Establish long-term contracts with these directors to ensure creative consistency and secure future royalties.\n",
    "\n",
    "3. **Optimize Runtime and Format**:\n",
    "   - Align productions with the preferred **90–120 minute runtime**, which audiences prefer for most genres.\n",
    "\n",
    "4. **Resource Allocation**:\n",
    "   - Invest heavily in high-revenue genres while maintaining a balanced portfolio that includes niche genres like **Documentaries** for diversity and broader market appeal.\n"
   ]
  },
  {
   "cell_type": "code",
   "execution_count": null,
   "metadata": {},
   "outputs": [],
   "source": []
  }
 ],
 "metadata": {
  "colab": {
   "collapsed_sections": [
    "EdVFXgeBezxX"
   ],
   "provenance": []
  },
  "kernelspec": {
   "display_name": "Python 3 (ipykernel)",
   "language": "python",
   "name": "python3"
  },
  "language_info": {
   "codemirror_mode": {
    "name": "ipython",
    "version": 3
   },
   "file_extension": ".py",
   "mimetype": "text/x-python",
   "name": "python",
   "nbconvert_exporter": "python",
   "pygments_lexer": "ipython3",
   "version": "3.11.5"
  }
 },
 "nbformat": 4,
 "nbformat_minor": 4
}
